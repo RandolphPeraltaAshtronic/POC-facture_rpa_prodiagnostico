{
 "cells": [
  {
   "cell_type": "code",
   "execution_count": 2,
   "id": "d8d5cb17",
   "metadata": {},
   "outputs": [],
   "source": [
    "from Tool.chrome_driver import initialize_chrome_driver\n",
    "base_dir=r\"C:\\Users\\raqui\\Downloads\"\n",
    "driver= initialize_chrome_driver(download_dir=base_dir)"
   ]
  },
  {
   "cell_type": "code",
   "execution_count": null,
   "id": "39e7a06b",
   "metadata": {},
   "outputs": [],
   "source": []
  },
  {
   "cell_type": "code",
   "execution_count": 1,
   "id": "93d63123",
   "metadata": {},
   "outputs": [
    {
     "name": "stderr",
     "output_type": "stream",
     "text": [
      "c:\\Users\\raqui\\AppData\\Local\\Programs\\Python\\Python310\\lib\\site-packages\\tqdm\\auto.py:21: TqdmWarning: IProgress not found. Please update jupyter and ipywidgets. See https://ipywidgets.readthedocs.io/en/stable/user_install.html\n",
      "  from .autonotebook import tqdm as notebook_tqdm\n"
     ]
    },
    {
     "name": "stdout",
     "output_type": "stream",
     "text": [
      "DEBUG: Intentando cargar .env desde: C:\\Users\\raqui\\Documents\\GitHub\\PDX-RPA-SaviaSalud\\.env\n",
      "DEBUG: .env cargado exitosamente: True\n",
      "DEBUG: API_BASE: http://127.0.0.1:8001 (Tipo: <class 'str'>)\n",
      "DEBUG: LOGIN_URL: https://prodiagnostico.hiruko.com.co/login (Tipo: <class 'str'>)\n",
      "DEBUG: LOGIN_CONEXIONES: https://conexiones.saviasaludeps.com/savia/home.faces (Tipo: <class 'str'>)\n",
      "DEBUG: USER_AQUILA: ASHTRONIC (Tipo: <class 'str'>)\n",
      "DEBUG: ORDERS_INVOICES: https://prodiagnostico.hiruko.com.co/facturacion/facturacion/consulta_ordenes_facturar (Tipo: <class 'str'>)\n",
      "DEBUG: PATIENT_SEARCH: https://prodiagnostico.hiruko.com.co/common/patient/ModifyDataPatientView/grid (Tipo: <class 'str'>)\n",
      "[requests] PDF guardado en: C:\\Users\\raqui\\Downloads\\savia\\cr\\2025\\06\\24\\29441278\\main_tmp_42891707.pdf\n",
      "Sección guardada: C:\\Users\\raqui\\Downloads\\savia\\cr\\2025\\06\\24\\29441278\\ADM_42891707_.pdf\n",
      "Sección guardada: C:\\Users\\raqui\\Downloads\\savia\\cr\\2025\\06\\24\\29441278\\CRC_42891707_.pdf\n",
      "[requests] PDF guardado en: C:\\Users\\raqui\\Downloads\\savia\\cr\\2025\\06\\24\\29441278\\pdx_tmp_42891707_0.pdf\n",
      "PDX final guardado: C:\\Users\\raqui\\Downloads\\savia\\cr\\2025\\06\\24\\29441278\\PDX_42891707_.pdf\n",
      "Procesamiento completo. Archivos finales en C:\\Users\\raqui\\Downloads\\savia\\cr\\2025\\06\\24\\29441278\n",
      "Autorización 29441278 procesada exitosamente.\n"
     ]
    }
   ],
   "source": [
    "from rpa.Tool.chrome_driver import initialize_chrome_driver\n",
    "base_dir=r\"C:\\Users\\raqui\\Downloads\"\n",
    "driver= initialize_chrome_driver(download_dir=base_dir)\n",
    "from rpa.rpa_audit.support_extractor.support_flow import  process_and_save_support_pdfs\n",
    "\n",
    "pdf_url= \"https://prodiagnostico.hiruko.com.co/bundles/utilities/internalOrder/OM672444-1748950384.pdf\"\n",
    "pages_info={'anexo_1_pages': [1], 'anexo_3_pages': [], 'certificacion_servicio_pages': [3], 'historia_clinica_pages': [], 'crear_solicitud_pages': [2], 'otras_paginas': [], 'paginas_en_blanco': []} \n",
    "auth_data={'authorization_code': '29441278', 'aquila_data': {'authorization_code': ['29441278'], 'document': '42891707', 'patient_name': 'ARANGO ZAPATA EDYS', 'pdf_url_soportes': 'https://prodiagnostico.hiruko.com.co/bundles/utilities/internalOrder/OM672444-1748950384.pdf', 'cups_code': ['873412'], 'pdf_url_lectura': ['https://prodiagnostico.hiruko.com.co/report/reading/a375e89d-f143-414f-a047-8727c3b9c00c'], 'sex': 'Mujer'}, 'conexiones_data': {'authorization_code': '29441278', 'patient_name': 'EDYS ARANGO ZAPATA', 'document': '42891707', 'government': 'SUBSIDIADO', 'document_type': 'CC', 'sex': 'Femenino', 'cups_code': ['873412'], 'status': 'Autorizada', 'check_date': ['Total']}, 'match': True, 'differences': {}} \n",
    "output_dir= r\"C:\\Users\\raqui\\Downloads\\savia\\cr\\2025\\06\\24\\29441278\"\n",
    "\n",
    "process_and_save_support_pdfs(driver, pdf_url, pages_info, auth_data,output_dir)"
   ]
  },
  {
   "cell_type": "code",
   "execution_count": null,
   "id": "6845e1a9",
   "metadata": {},
   "outputs": [],
   "source": []
  },
  {
   "cell_type": "code",
   "execution_count": null,
   "id": "048fde1e",
   "metadata": {},
   "outputs": [],
   "source": []
  },
  {
   "cell_type": "code",
   "execution_count": null,
   "id": "e9d483e8",
   "metadata": {},
   "outputs": [],
   "source": []
  },
  {
   "cell_type": "code",
   "execution_count": null,
   "id": "aecc66ab",
   "metadata": {},
   "outputs": [],
   "source": []
  }
 ],
 "metadata": {
  "kernelspec": {
   "display_name": "venv",
   "language": "python",
   "name": "python3"
  },
  "language_info": {
   "codemirror_mode": {
    "name": "ipython",
    "version": 3
   },
   "file_extension": ".py",
   "mimetype": "text/x-python",
   "name": "python",
   "nbconvert_exporter": "python",
   "pygments_lexer": "ipython3",
   "version": "3.13.5"
  }
 },
 "nbformat": 4,
 "nbformat_minor": 5
}
